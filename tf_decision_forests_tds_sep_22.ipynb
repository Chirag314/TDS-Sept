{
  "metadata": {
    "kernelspec": {
      "language": "python",
      "display_name": "Python 3",
      "name": "python3"
    },
    "language_info": {
      "pygments_lexer": "ipython3",
      "nbconvert_exporter": "python",
      "version": "3.6.4",
      "file_extension": ".py",
      "codemirror_mode": {
        "name": "ipython",
        "version": 3
      },
      "name": "python",
      "mimetype": "text/x-python"
    },
    "colab": {
      "provenance": [],
      "include_colab_link": true
    }
  },
  "nbformat_minor": 0,
  "nbformat": 4,
  "cells": [
    {
      "cell_type": "markdown",
      "metadata": {
        "id": "view-in-github",
        "colab_type": "text"
      },
      "source": [
        "<a href=\"https://colab.research.google.com/github/Chirag314/TDS-Sept/blob/main/tf_decision_forests_tds_sep_22.ipynb\" target=\"_parent\"><img src=\"https://colab.research.google.com/assets/colab-badge.svg\" alt=\"Open In Colab\"/></a>"
      ]
    },
    {
      "cell_type": "markdown",
      "source": [
        "# How to make a submission to the Tabular Playground Series (Sep 2022) Using TensorFlow Decision Forests"
      ],
      "metadata": {
        "papermill": {
          "duration": 0.015167,
          "end_time": "2022-08-31T21:40:03.732992",
          "exception": false,
          "start_time": "2022-08-31T21:40:03.717825",
          "status": "completed"
        },
        "tags": [],
        "id": "TC005_unyQp3"
      }
    },
    {
      "cell_type": "markdown",
      "source": [
        "**How to use this notebook**:\n",
        " - Click on the \"copy & edit\" button in the top right corner. Run the code cells from top to bottom and save a new version.\n",
        " - Read through and understand both the markdown cells as well as the code cells and their outputs.\n",
        " - Make a submission to the [Tabular Playground Series](https://www.kaggle.com/competitions/tabular-playground-series-sep-2022) competition. Experiment and try to increase your score (model selection, hyperparameter choices, feature engineering, feature selection, etc)\n"
      ],
      "metadata": {
        "papermill": {
          "duration": 0.013056,
          "end_time": "2022-08-31T21:40:03.759621",
          "exception": false,
          "start_time": "2022-08-31T21:40:03.746565",
          "status": "completed"
        },
        "tags": [],
        "id": "bl3cIt99yQp4"
      }
    },
    {
      "cell_type": "markdown",
      "source": [
        "# Introduction"
      ],
      "metadata": {
        "papermill": {
          "duration": 0.013097,
          "end_time": "2022-08-31T21:40:03.78817",
          "exception": false,
          "start_time": "2022-08-31T21:40:03.775073",
          "status": "completed"
        },
        "tags": [],
        "id": "y3DhuuMHyQp5"
      }
    },
    {
      "cell_type": "markdown",
      "source": [
        "The goal of this notebook is to help Kagglers to: (1) better understand decision forest algorithms; (2) become familiar with the [TensorFlow Decision Forests (TF-DF)](https://www.tensorflow.org/decision_forests) Python API for executing decision forest algorithms; and (3) use decision forest algorithms to make submissions to the [September 2022 Tabular Playground Series](https://www.kaggle.com/competitions/tabular-playground-series-sep-2022/data) Kaggle competition.\n",
        "\n",
        "We'll be using [TensorFlow Decision Forests](https://www.tensorflow.org/decision_forests) (TF-DF) to train our model.  TensorFlow Decision Forests is a TensorFlow wrapper for the [Yggdrasil Decision Forests C++ libraries](https://github.com/google/yggdrasil-decision-forests).  TF-DF makes it very easy to train, serve and interpret various Decision Forest models such as [RandomForests](https://www.tensorflow.org/decision_forests/api_docs/python/tfdf/keras/RandomForestModel) and [GrandientBoostedTrees](https://www.tensorflow.org/decision_forests/api_docs/python/tfdf/keras/GradientBoostedTreesModel).  These types of decision forest models require minimal pre-processing of the data and are great when working with tabular datasets and/or small datasets (especially if you just want a quick baseline result to compare against).\n",
        "\n",
        "[Decision Forests ](https://www.tensorflow.org/decision_forests)are a category of supervised machine learning methods that can be used for classification, regression and ranking. When thinking about decision forests, it can be helpful to first think about decision trees. Multiple decision trees can be \"[ensembled](https://scikit-learn.org/stable/modules/ensemble.html#)\" or analyzed together in order to form a \"decision forest\" which then should have improved predictive capabilities as compared to each individual tree.  The most popular decision forest methods are the [RandomForest](https://www.stat.berkeley.edu/~breiman/randomforest2001.pdf) and [GradientBoostedTrees](https://jerryfriedman.su.domains/ftp/trebst.pdf) algorithms.  These algorithms are conceptually very similar to each other but anecdotally I often find that gradient boosted models have superior performance.\n",
        "* You can learn more about decision tree models and ensemble methods (such as RandomForest and GradientBoostedTrees) on scikit-learn's [decision tree](https://scikit-learn.org/stable/modules/tree.html#tree) and [ensemble](https://scikit-learn.org/stable/modules/ensemble.html#) pages. Some very nice implementationss of random forest algorithms can be found in popular Python packages such as [TF-DF](https://www.tensorflow.org/decision_forests/api_docs/python/tfdf/keras/RandomForestModel),  [scikit-learn](https://scikit-learn.org/stable/modules/ensemble.html#forests-of-randomized-trees), and [xgboost](https://xgboost.readthedocs.io/en/latest/tutorials/rf.html?highlight=random%20forest#random-forests-tm-in-xgboost).  Likewise, you can find great gradient boosted trees algorithms in [TF-DF](https://www.tensorflow.org/decision_forests/api_docs/python/tfdf/keras/GradientBoostedTreesModel),  [scikit-learn](https://scikit-learn.org/stable/modules/ensemble.html#gradient-boosting), and [xgboost](https://xgboost.readthedocs.io/en/latest/tutorials/model.html#introduction-to-boosted-trees).  For an explanation on the differences between random forest models and gradient boosted models, see [here](https://xgboost.readthedocs.io/en/latest/R-package/discoverYourData.html?highlight=random%20forest#special-note-what-about-random-forests) and [here](https://xgboost.readthedocs.io/en/latest/tutorials/rf.html?highlight=random%20forest#random-forests-tm-in-xgboosthttps://xgboost.readthedocs.io/en/latest/tutorials/rf.html?highlight=random%20forest#random-forests-tm-in-xgboost).  \n",
        "* For hands-on experience with these same concepts consider completing Kaggle Learn's [Intro to machine learning](https://www.kaggle.com/learn/intro-to-machine-learning) and [Intermediate machine learning](https://www.kaggle.com/learn/intermediate-machine-learning%5C) courses.\n"
      ],
      "metadata": {
        "_kg_hide-input": false,
        "_kg_hide-output": true,
        "papermill": {
          "duration": 0.013414,
          "end_time": "2022-08-31T21:40:03.815175",
          "exception": false,
          "start_time": "2022-08-31T21:40:03.801761",
          "status": "completed"
        },
        "tags": [],
        "id": "5gc82FQUyQp5"
      }
    },
    {
      "cell_type": "markdown",
      "source": [
        "\n",
        "We'll be working with the [Tabular Playground Series September 2022](https://www.kaggle.com/competitions/tabular-playground-series-sep-2022/data) Kaggle Dataset.  It is a tabular dataset with ~70,000 rows and 6 columns (4.49MB .CSV training dataset + 1.06MB .CSV test set) that is suitable for training regression algorithms (in this case to determine the number of units sold (\"num_sold\")).\n",
        "\n",
        "Submissions in this competition will be [evaluated](https://admin.kaggle.com/competitions/tabular-playground-series-sep-2022/overview/evaluation) according to the [SMAPE metric](https://en.wikipedia.org/wiki/Symmetric_mean_absolute_percentage_error).  The SMAPE metric will be equal to 0 when the predictions are perfect. A few additional metrics that you consider using to evaluate regression models include [root-mean-square error (RMSE)](https://en.wikipedia.org/wiki/Root-mean-square_deviation) and [mean absolute error (mae)](https://en.wikipedia.org/wiki/Mean_absolute_error).  To learn more validating predictions for regression problems, consider reviewing https://www.kaggle.com/code/dansbecker/model-validation.\n",
        "\n",
        "By studying this tutorial you will learn how to use [TF-DF](https://www.tensorflow.org/decision_forests) to quickly train a [GradientBoostedTrees](https://www.tensorflow.org/decision_forests/api_docs/python/tfdf/keras/GradientBoostedTreesModel) model to perform a binary classification task using tabular data, in order to make a submission to the [September 2022 Tabular Playground Series competition](https://www.kaggle.com/competitions/tabular-playground-series-sep-2022/) on Kaggle."
      ],
      "metadata": {
        "papermill": {
          "duration": 0.014266,
          "end_time": "2022-08-31T21:40:03.844849",
          "exception": false,
          "start_time": "2022-08-31T21:40:03.830583",
          "status": "completed"
        },
        "tags": [],
        "id": "RB6WVBdAyQp6"
      }
    },
    {
      "cell_type": "markdown",
      "source": [
        "Step 1: Import Python packages"
      ],
      "metadata": {
        "papermill": {
          "duration": 0.015021,
          "end_time": "2022-08-31T21:40:03.876974",
          "exception": false,
          "start_time": "2022-08-31T21:40:03.861953",
          "status": "completed"
        },
        "tags": [],
        "id": "7lhPeF7uyQp6"
      }
    },
    {
      "cell_type": "code",
      "source": [
        "!pip install tensorflow_decision_forests"
      ],
      "metadata": {
        "_kg_hide-input": true,
        "_kg_hide-output": true,
        "papermill": {
          "duration": 37.403826,
          "end_time": "2022-08-31T21:40:41.299305",
          "exception": false,
          "start_time": "2022-08-31T21:40:03.895479",
          "status": "completed"
        },
        "tags": [],
        "trusted": true,
        "id": "w8TUVyScyQp7"
      },
      "execution_count": null,
      "outputs": []
    },
    {
      "cell_type": "code",
      "source": [
        "# Import Python packages\n",
        "import os\n",
        "import numpy as np \n",
        "import pandas as pd \n",
        "import matplotlib.pyplot as plt\n",
        "import seaborn as sns\n",
        "import tensorflow as tf\n",
        "import tensorflow_decision_forests as tfdf\n",
        "from pandas_profiling import ProfileReport\n",
        "print(\"TensorFlow Decision Forests v\" + tfdf.__version__)\n",
        "%matplotlib inline"
      ],
      "metadata": {
        "papermill": {
          "duration": 9.255118,
          "end_time": "2022-08-31T21:40:50.572704",
          "exception": false,
          "start_time": "2022-08-31T21:40:41.317586",
          "status": "completed"
        },
        "tags": [],
        "execution": {
          "iopub.status.busy": "2022-08-31T23:40:39.507299Z",
          "iopub.execute_input": "2022-08-31T23:40:39.507908Z",
          "iopub.status.idle": "2022-08-31T23:40:46.197287Z",
          "shell.execute_reply.started": "2022-08-31T23:40:39.507866Z",
          "shell.execute_reply": "2022-08-31T23:40:46.196218Z"
        },
        "trusted": true,
        "id": "lccQ3qp2yQp7"
      },
      "execution_count": null,
      "outputs": []
    },
    {
      "cell_type": "code",
      "source": [
        "def plot_tfdf_model_training_curves(model):\n",
        "    # This function was adapted from the following tutorial:\n",
        "    # https://www.tensorflow.org/decision_forests/tutorials/beginner_colab\n",
        "    logs = model.make_inspector().training_logs()\n",
        "    plt.figure(figsize=(12, 4))\n",
        "    plt.subplot(1, 2, 1)\n",
        "    # Plot rmse vs number of trees\n",
        "    plt.plot([log.num_trees for log in logs], [log.evaluation.rmse for log in logs])\n",
        "    plt.xlabel(\"Number of trees\")\n",
        "    plt.ylabel(\"RMSE (out-of-bag)\")\n",
        "    plt.subplot(1, 2, 2)\n",
        "    # Plot loss vs number of trees\n",
        "    plt.plot([log.num_trees for log in logs], [log.evaluation.loss for log in logs])\n",
        "    plt.xlabel(\"Number of trees\")\n",
        "    plt.ylabel(\"Logloss (out-of-bag)\")\n",
        "    plt.show()\n",
        "    \n",
        "    \n",
        "pd.set_option('display.max_columns', None)\n"
      ],
      "metadata": {
        "_cell_guid": "b1076dfc-b9ad-4769-8c92-a6c4dae69d19",
        "_kg_hide-input": true,
        "_kg_hide-output": true,
        "_uuid": "8f2839f25d086af736a60e9eeb907d3b93b6e0e5",
        "papermill": {
          "duration": 0.032365,
          "end_time": "2022-08-31T21:40:50.624152",
          "exception": false,
          "start_time": "2022-08-31T21:40:50.591787",
          "status": "completed"
        },
        "tags": [],
        "execution": {
          "iopub.status.busy": "2022-08-31T23:40:46.198411Z",
          "iopub.execute_input": "2022-08-31T23:40:46.199451Z",
          "iopub.status.idle": "2022-08-31T23:40:46.209045Z",
          "shell.execute_reply.started": "2022-08-31T23:40:46.199413Z",
          "shell.execute_reply": "2022-08-31T23:40:46.207743Z"
        },
        "trusted": true,
        "id": "w_5g7rwyyQp7"
      },
      "execution_count": null,
      "outputs": []
    },
    {
      "cell_type": "markdown",
      "source": [
        "Step 2: Identify the location of the data"
      ],
      "metadata": {
        "papermill": {
          "duration": 0.017979,
          "end_time": "2022-08-31T21:40:50.66069",
          "exception": false,
          "start_time": "2022-08-31T21:40:50.642711",
          "status": "completed"
        },
        "tags": [],
        "id": "t2AW_r2iyQp8"
      }
    },
    {
      "cell_type": "code",
      "source": [
        "# print list of all data and files attached to this notebook\n",
        "for dirname, _, filenames in os.walk('/kaggle/input'):\n",
        "    for filename in filenames:\n",
        "        print(os.path.join(dirname, filename))"
      ],
      "metadata": {
        "_kg_hide-input": true,
        "papermill": {
          "duration": 0.030508,
          "end_time": "2022-08-31T21:40:50.709388",
          "exception": false,
          "start_time": "2022-08-31T21:40:50.67888",
          "status": "completed"
        },
        "tags": [],
        "execution": {
          "iopub.status.busy": "2022-08-31T23:40:46.212189Z",
          "iopub.execute_input": "2022-08-31T23:40:46.213468Z",
          "iopub.status.idle": "2022-08-31T23:40:46.227266Z",
          "shell.execute_reply.started": "2022-08-31T23:40:46.213441Z",
          "shell.execute_reply": "2022-08-31T23:40:46.226083Z"
        },
        "trusted": true,
        "id": "eB5P0mQyyQp8"
      },
      "execution_count": null,
      "outputs": []
    },
    {
      "cell_type": "markdown",
      "source": [
        "Step 3: Load the data"
      ],
      "metadata": {
        "papermill": {
          "duration": 0.018393,
          "end_time": "2022-08-31T21:40:50.74675",
          "exception": false,
          "start_time": "2022-08-31T21:40:50.728357",
          "status": "completed"
        },
        "tags": [],
        "id": "um5tawyhyQp8"
      }
    },
    {
      "cell_type": "code",
      "source": [
        "# load to pandas dataframe (for data exploration)\n",
        "train_df = pd.read_csv('/kaggle/input/tabular-playground-series-sep-2022/train.csv').drop('row_id', axis=1)\n",
        "test_df = pd.read_csv('/kaggle/input/tabular-playground-series-sep-2022/test.csv').drop('row_id', axis=1)\n",
        "\n",
        "# load to tensorflow dataset (for model training)\n",
        "train_tfds = tfdf.keras.pd_dataframe_to_tf_dataset(train_df, label=\"num_sold\", task=tfdf.keras.Task.REGRESSION)\n",
        "test_tfds = tfdf.keras.pd_dataframe_to_tf_dataset(test_df, task=tfdf.keras.Task.REGRESSION)"
      ],
      "metadata": {
        "_kg_hide-output": true,
        "papermill": {
          "duration": 0.326973,
          "end_time": "2022-08-31T21:40:51.093739",
          "exception": false,
          "start_time": "2022-08-31T21:40:50.766766",
          "status": "completed"
        },
        "tags": [],
        "execution": {
          "iopub.status.busy": "2022-08-31T23:40:46.229058Z",
          "iopub.execute_input": "2022-08-31T23:40:46.229818Z",
          "iopub.status.idle": "2022-08-31T23:40:49.325502Z",
          "shell.execute_reply.started": "2022-08-31T23:40:46.229782Z",
          "shell.execute_reply": "2022-08-31T23:40:49.32374Z"
        },
        "trusted": true,
        "id": "bxkuB6F2yQp8"
      },
      "execution_count": null,
      "outputs": []
    },
    {
      "cell_type": "markdown",
      "source": [
        "Step 4: Explore the data"
      ],
      "metadata": {
        "papermill": {
          "duration": 0.018503,
          "end_time": "2022-08-31T21:40:51.131199",
          "exception": false,
          "start_time": "2022-08-31T21:40:51.112696",
          "status": "completed"
        },
        "tags": [],
        "id": "BOjjAm0oyQp8"
      }
    },
    {
      "cell_type": "code",
      "source": [
        "# print column names\n",
        "print(train_df.columns)\n",
        "print(train_df.shape)"
      ],
      "metadata": {
        "papermill": {
          "duration": 0.029828,
          "end_time": "2022-08-31T21:40:51.180026",
          "exception": false,
          "start_time": "2022-08-31T21:40:51.150198",
          "status": "completed"
        },
        "tags": [],
        "execution": {
          "iopub.status.busy": "2022-08-31T23:40:49.327021Z",
          "iopub.execute_input": "2022-08-31T23:40:49.327371Z",
          "iopub.status.idle": "2022-08-31T23:40:49.333179Z",
          "shell.execute_reply.started": "2022-08-31T23:40:49.327334Z",
          "shell.execute_reply": "2022-08-31T23:40:49.332132Z"
        },
        "trusted": true,
        "id": "viWzKtiByQp8"
      },
      "execution_count": null,
      "outputs": []
    },
    {
      "cell_type": "markdown",
      "source": [
        "It is a tabular dataset with ~70,000 rows and 6 columns (4.49MB .CSV training dataset + 1.06MB .CSV test set) that is suitable for training regression algorithms (in this case to determine the number of units sold (\"num_sold\"))."
      ],
      "metadata": {
        "papermill": {
          "duration": 0.018625,
          "end_time": "2022-08-31T21:40:51.218094",
          "exception": false,
          "start_time": "2022-08-31T21:40:51.199469",
          "status": "completed"
        },
        "tags": [],
        "id": "FpDlYAjOyQp9"
      }
    },
    {
      "cell_type": "code",
      "source": [
        "# preview first few rows of data\n",
        "train_df.head(10)"
      ],
      "metadata": {
        "papermill": {
          "duration": 0.044422,
          "end_time": "2022-08-31T21:40:51.281529",
          "exception": false,
          "start_time": "2022-08-31T21:40:51.237107",
          "status": "completed"
        },
        "tags": [],
        "execution": {
          "iopub.status.busy": "2022-08-31T23:40:49.334597Z",
          "iopub.execute_input": "2022-08-31T23:40:49.335478Z",
          "iopub.status.idle": "2022-08-31T23:40:49.359287Z",
          "shell.execute_reply.started": "2022-08-31T23:40:49.335439Z",
          "shell.execute_reply": "2022-08-31T23:40:49.358438Z"
        },
        "trusted": true,
        "id": "qpQlJZylyQp9"
      },
      "execution_count": null,
      "outputs": []
    },
    {
      "cell_type": "code",
      "source": [
        "# print basic summary statistics\n",
        "train_df.describe().head(3)\n",
        "# For additional summary statistics you can run the following few lines as well:\n",
        "# from pandas_profiling import ProfileReport\n",
        "# # train_profile = ProfileReport(train_df, title=\"September 2022 Tabular Data Series\")\n",
        "# # train_profile"
      ],
      "metadata": {
        "papermill": {
          "duration": 0.051542,
          "end_time": "2022-08-31T21:40:51.352354",
          "exception": false,
          "start_time": "2022-08-31T21:40:51.300812",
          "status": "completed"
        },
        "tags": [],
        "execution": {
          "iopub.status.busy": "2022-08-31T23:40:49.360577Z",
          "iopub.execute_input": "2022-08-31T23:40:49.360898Z",
          "iopub.status.idle": "2022-08-31T23:40:49.384572Z",
          "shell.execute_reply.started": "2022-08-31T23:40:49.360857Z",
          "shell.execute_reply": "2022-08-31T23:40:49.383615Z"
        },
        "trusted": true,
        "id": "E5aVkX_RyQp9"
      },
      "execution_count": null,
      "outputs": []
    },
    {
      "cell_type": "code",
      "source": [
        "# check for missing values\n",
        "sns.heatmap(train_df.isnull(), cbar=False)"
      ],
      "metadata": {
        "papermill": {
          "duration": 0.95078,
          "end_time": "2022-08-31T21:40:52.322431",
          "exception": false,
          "start_time": "2022-08-31T21:40:51.371651",
          "status": "completed"
        },
        "tags": [],
        "execution": {
          "iopub.status.busy": "2022-08-31T23:40:49.386401Z",
          "iopub.execute_input": "2022-08-31T23:40:49.386734Z",
          "iopub.status.idle": "2022-08-31T23:40:50.154056Z",
          "shell.execute_reply.started": "2022-08-31T23:40:49.386703Z",
          "shell.execute_reply": "2022-08-31T23:40:50.152951Z"
        },
        "trusted": true,
        "id": "pFh3NrpCyQp9"
      },
      "execution_count": null,
      "outputs": []
    },
    {
      "cell_type": "markdown",
      "source": [
        "RandomForest and GradientBoostedTrees deal with null values automatically but for improved model performance we might consider handling these missing values in a more thoughtful way.  To learn more about data imputation techniques, consider reviewing the relevant Kaggle Learn exercise [here](https://www.kaggle.com/code/alexisbcook/missing-values)."
      ],
      "metadata": {
        "papermill": {
          "duration": 0.019273,
          "end_time": "2022-08-31T21:40:52.361548",
          "exception": false,
          "start_time": "2022-08-31T21:40:52.342275",
          "status": "completed"
        },
        "tags": [],
        "id": "ZH-Hs3geyQp9"
      }
    },
    {
      "cell_type": "markdown",
      "source": [
        "Step 5: Feature Engineering and Feature Selection"
      ],
      "metadata": {
        "papermill": {
          "duration": 0.019398,
          "end_time": "2022-08-31T21:40:52.40057",
          "exception": false,
          "start_time": "2022-08-31T21:40:52.381172",
          "status": "completed"
        },
        "tags": [],
        "id": "YITAKGjkyQp9"
      }
    },
    {
      "cell_type": "code",
      "source": [
        "#  ADD CONTENT HERE TO IMPROVE YOUR SCORE!"
      ],
      "metadata": {
        "papermill": {
          "duration": 0.029903,
          "end_time": "2022-08-31T21:40:52.450056",
          "exception": false,
          "start_time": "2022-08-31T21:40:52.420153",
          "status": "completed"
        },
        "tags": [],
        "execution": {
          "iopub.status.busy": "2022-08-31T23:40:50.158682Z",
          "iopub.execute_input": "2022-08-31T23:40:50.158966Z",
          "iopub.status.idle": "2022-08-31T23:40:50.163747Z",
          "shell.execute_reply.started": "2022-08-31T23:40:50.15894Z",
          "shell.execute_reply": "2022-08-31T23:40:50.162603Z"
        },
        "trusted": true,
        "id": "9Dtdn5AOyQp9"
      },
      "execution_count": null,
      "outputs": []
    },
    {
      "cell_type": "markdown",
      "source": [
        "To get to the top of the leaderboard it will be important to do a lot of clever feature engineering and feature selection. You can learn more about these concepts by reviewing the relevant Kaggle Learn exercise [here]((https://www.kaggle.com/learn/feature-engineering)). These steps were intentionally skipped in this tutorial for the sake of brevity."
      ],
      "metadata": {
        "papermill": {
          "duration": 0.01967,
          "end_time": "2022-08-31T21:40:52.489311",
          "exception": false,
          "start_time": "2022-08-31T21:40:52.469641",
          "status": "completed"
        },
        "tags": [],
        "id": "KrfLSHnPyQp-"
      }
    },
    {
      "cell_type": "markdown",
      "source": [
        "# RandomForest\n",
        "\n",
        "Next we will take our training data and we will use it to train a Random Forest model (to predict the number of units sold)."
      ],
      "metadata": {
        "papermill": {
          "duration": 0.019228,
          "end_time": "2022-08-31T21:40:52.528304",
          "exception": false,
          "start_time": "2022-08-31T21:40:52.509076",
          "status": "completed"
        },
        "tags": [],
        "id": "bTaTWm0wyQp-"
      }
    },
    {
      "cell_type": "markdown",
      "source": [
        "Step 6: Train a [Random Forest](https://www.stat.berkeley.edu/~breiman/randomforest2001.pdf) Model\n",
        "\n",
        "\n",
        "\n",
        "> \"A Random Forest is a collection of deep CART decision trees trained independently and without pruning. Each tree is trained on a random subset of the original training dataset (sampled with replacement).\n",
        "> \n",
        "> The algorithm is unique in that it is robust to overfitting, even in extreme cases e.g. when there is more features than training examples.\n",
        "> \n",
        "> It is probably the most well-known of the Decision Forest training algorithms\"\n",
        "\n",
        "\n",
        "\n",
        "\n",
        " ~ Quoted from [TFDF RandomForest documentation ](https://www.tensorflow.org/decision_forests/api_docs/python/tfdf/keras/RandomForestModel)"
      ],
      "metadata": {
        "papermill": {
          "duration": 0.019152,
          "end_time": "2022-08-31T21:40:52.56696",
          "exception": false,
          "start_time": "2022-08-31T21:40:52.547808",
          "status": "completed"
        },
        "tags": [],
        "id": "EFoiOk0myQp-"
      }
    },
    {
      "cell_type": "markdown",
      "source": [
        "One neat thing about TF-DF is that in addition to having a default set of hyper-parameters, you are also provided with a list of additional hyper-parameter choices to consider.  This makes it a lot easier to optimize model performance because you do not have to do this expensive hyper-parameter optimization step all by yourself."
      ],
      "metadata": {
        "papermill": {
          "duration": 0.019059,
          "end_time": "2022-08-31T21:40:52.605801",
          "exception": false,
          "start_time": "2022-08-31T21:40:52.586742",
          "status": "completed"
        },
        "tags": [],
        "id": "Pu9i-QPoyQp-"
      }
    },
    {
      "cell_type": "code",
      "source": [
        "print(tfdf.keras.RandomForestModel.predefined_hyperparameters())"
      ],
      "metadata": {
        "papermill": {
          "duration": 0.029965,
          "end_time": "2022-08-31T21:40:52.655274",
          "exception": false,
          "start_time": "2022-08-31T21:40:52.625309",
          "status": "completed"
        },
        "tags": [],
        "execution": {
          "iopub.status.busy": "2022-08-31T23:40:50.16504Z",
          "iopub.execute_input": "2022-08-31T23:40:50.165949Z",
          "iopub.status.idle": "2022-08-31T23:40:50.175284Z",
          "shell.execute_reply.started": "2022-08-31T23:40:50.165899Z",
          "shell.execute_reply": "2022-08-31T23:40:50.173735Z"
        },
        "trusted": true,
        "id": "XtlJun7TyQp-"
      },
      "execution_count": null,
      "outputs": []
    },
    {
      "cell_type": "code",
      "source": [
        "# Train the model\n",
        "rf_model = tfdf.keras.RandomForestModel(hyperparameter_template=\"better_default\",num_trees=75, task=tfdf.keras.Task.REGRESSION)\n",
        "rf_model.compile(metrics=[\"mae\"]) # change to SMAPE eventually\n",
        "rf_model.fit(x=train_tfds)"
      ],
      "metadata": {
        "_kg_hide-output": true,
        "papermill": {
          "duration": 632.678175,
          "end_time": "2022-08-31T21:51:25.352992",
          "exception": false,
          "start_time": "2022-08-31T21:40:52.674817",
          "status": "completed"
        },
        "tags": [],
        "execution": {
          "iopub.status.busy": "2022-08-31T23:40:50.176466Z",
          "iopub.execute_input": "2022-08-31T23:40:50.177795Z",
          "iopub.status.idle": "2022-08-31T23:58:40.279328Z",
          "shell.execute_reply.started": "2022-08-31T23:40:50.17776Z",
          "shell.execute_reply": "2022-08-31T23:58:40.278333Z"
        },
        "trusted": true,
        "id": "j6pecZdIyQp-"
      },
      "execution_count": null,
      "outputs": []
    },
    {
      "cell_type": "code",
      "source": [
        "# Visualize the model\n",
        "# Currently this step works in the Kaggle Notebook Editor but unfortunately displays an empty/blank visualization in the Notebook Viewer\n",
        "tfdf.model_plotter.plot_model_in_colab(rf_model, tree_idx=0, max_depth=3)"
      ],
      "metadata": {
        "_kg_hide-input": true,
        "_kg_hide-output": true,
        "papermill": {
          "duration": 56.106222,
          "end_time": "2022-08-31T21:52:21.48309",
          "exception": false,
          "start_time": "2022-08-31T21:51:25.376868",
          "status": "completed"
        },
        "tags": [],
        "execution": {
          "iopub.status.busy": "2022-08-31T23:58:40.280897Z",
          "iopub.execute_input": "2022-08-31T23:58:40.281271Z",
          "iopub.status.idle": "2022-08-31T23:59:30.777444Z",
          "shell.execute_reply.started": "2022-08-31T23:58:40.281235Z",
          "shell.execute_reply": "2022-08-31T23:59:30.776462Z"
        },
        "trusted": true,
        "id": "yTU86wiyyQp-"
      },
      "execution_count": null,
      "outputs": []
    },
    {
      "cell_type": "markdown",
      "source": [
        "Step 7: Evaluate your Random Forest Model"
      ],
      "metadata": {
        "papermill": {
          "duration": 0.024072,
          "end_time": "2022-08-31T21:52:21.531465",
          "exception": false,
          "start_time": "2022-08-31T21:52:21.507393",
          "status": "completed"
        },
        "tags": [],
        "id": "V72zNh2byQp-"
      }
    },
    {
      "cell_type": "code",
      "source": [
        "plot_tfdf_model_training_curves(rf_model)"
      ],
      "metadata": {
        "papermill": {
          "duration": 0.350437,
          "end_time": "2022-08-31T21:52:21.906855",
          "exception": false,
          "start_time": "2022-08-31T21:52:21.556418",
          "status": "completed"
        },
        "tags": [],
        "execution": {
          "iopub.status.busy": "2022-08-31T23:59:30.779161Z",
          "iopub.execute_input": "2022-08-31T23:59:30.779855Z",
          "iopub.status.idle": "2022-08-31T23:59:31.059131Z",
          "shell.execute_reply.started": "2022-08-31T23:59:30.779816Z",
          "shell.execute_reply": "2022-08-31T23:59:31.05824Z"
        },
        "trusted": true,
        "id": "4WWxT4wfyQp_"
      },
      "execution_count": null,
      "outputs": []
    },
    {
      "cell_type": "code",
      "source": [
        "inspector = rf_model.make_inspector()\n",
        "inspector.evaluation()"
      ],
      "metadata": {
        "papermill": {
          "duration": 0.039852,
          "end_time": "2022-08-31T21:52:21.971681",
          "exception": false,
          "start_time": "2022-08-31T21:52:21.931829",
          "status": "completed"
        },
        "tags": [],
        "execution": {
          "iopub.status.busy": "2022-08-31T23:59:31.060686Z",
          "iopub.execute_input": "2022-08-31T23:59:31.061044Z",
          "iopub.status.idle": "2022-08-31T23:59:31.071777Z",
          "shell.execute_reply.started": "2022-08-31T23:59:31.06101Z",
          "shell.execute_reply": "2022-08-31T23:59:31.070621Z"
        },
        "trusted": true,
        "id": "vr-jRc4EyQp_"
      },
      "execution_count": null,
      "outputs": []
    },
    {
      "cell_type": "code",
      "source": [
        "#rf_model.evaluate(train_tfds)"
      ],
      "metadata": {
        "papermill": {
          "duration": 0.034691,
          "end_time": "2022-08-31T21:52:22.031885",
          "exception": false,
          "start_time": "2022-08-31T21:52:21.997194",
          "status": "completed"
        },
        "tags": [],
        "execution": {
          "iopub.status.busy": "2022-08-31T23:59:31.073373Z",
          "iopub.execute_input": "2022-08-31T23:59:31.073995Z",
          "iopub.status.idle": "2022-08-31T23:59:31.078198Z",
          "shell.execute_reply.started": "2022-08-31T23:59:31.07396Z",
          "shell.execute_reply": "2022-08-31T23:59:31.077113Z"
        },
        "trusted": true,
        "id": "AOIE2-UUyQp_"
      },
      "execution_count": null,
      "outputs": []
    },
    {
      "cell_type": "code",
      "source": [
        "print(\"Model type:\", inspector.model_type())\n",
        "print(\"Objective:\", inspector.objective())\n",
        "print(\"Evaluation:\", inspector.evaluation())"
      ],
      "metadata": {
        "papermill": {
          "duration": 0.036876,
          "end_time": "2022-08-31T21:52:22.094107",
          "exception": false,
          "start_time": "2022-08-31T21:52:22.057231",
          "status": "completed"
        },
        "tags": [],
        "execution": {
          "iopub.status.busy": "2022-08-31T23:59:31.079917Z",
          "iopub.execute_input": "2022-08-31T23:59:31.080575Z",
          "iopub.status.idle": "2022-08-31T23:59:31.090079Z",
          "shell.execute_reply.started": "2022-08-31T23:59:31.080523Z",
          "shell.execute_reply": "2022-08-31T23:59:31.08887Z"
        },
        "trusted": true,
        "id": "5ByVLYDoyQp_"
      },
      "execution_count": null,
      "outputs": []
    },
    {
      "cell_type": "markdown",
      "source": [
        "RMSE ~20.8 is not a bad baseline result given how few lines of code were required to get that result.  To get to the top of the leaderboard it will be important to do add in a few additional code cells where and spend some time doing some feature engineering and feature selection (these steps were intentionally skipped in this tutorial for the sake of brevity). You can learn more about these concepts by reviewing the relevant Kaggle Learn exercise [here]((https://www.kaggle.com/learn/feature-engineering))."
      ],
      "metadata": {
        "papermill": {
          "duration": 0.024983,
          "end_time": "2022-08-31T21:52:22.145033",
          "exception": false,
          "start_time": "2022-08-31T21:52:22.12005",
          "status": "completed"
        },
        "tags": [],
        "id": "32QOVTJnyQp_"
      }
    },
    {
      "cell_type": "markdown",
      "source": [
        "Step 8: Investigate variable importances for the RandomForest model"
      ],
      "metadata": {
        "papermill": {
          "duration": 0.024583,
          "end_time": "2022-08-31T21:52:22.194445",
          "exception": false,
          "start_time": "2022-08-31T21:52:22.169862",
          "status": "completed"
        },
        "tags": [],
        "id": "vdswHSUNyQp_"
      }
    },
    {
      "cell_type": "markdown",
      "source": [
        "\n",
        "Variable importances (VI) describe the impact of each feature to the model.\n",
        " - > VIs generally indicates how much a variable contributes to the model predictions or quality. Different VIs have different semantics and are generally not comparable.\n",
        " - > The VIs returned by variable_importances() depends on the learning algorithm and its hyper-parameters. For example, the hyperparameter compute_oob_variable_importances=True of the Random Forest learner enables the computation of permutation out-of-bag variable importances.\n",
        " - > Variable importances can be obtained with tfdf.inspector.make_inspector(path).variable_importances().\n",
        "\n",
        "The available variable importances are:\n",
        " - > Model agnostic\n",
        "  - > MEAN_{INCREASE,DECREASE}_IN_{metric}: Estimated metric change from removing a feature using permutation importance . Depending on the learning algorithm and hyper-parameters, the VIs can be computed with validation, cross-validation or out-of-bag. For example, the MEAN_DECREASE_IN_ACCURACY of a feature is the drop in accuracy (the larger, the most important the feature) caused by shuffling the values of a features. For example, MEAN_DECREASE_IN_AUC_3_VS_OTHERS is the expected drop in AUC when comparing the label class \"3\" to the others.\n",
        " - > Decision Forests specific\n",
        "  - > SUM_SCORE: Sum of the split scores using a specific feature. The larger, the most important.\n",
        "  - > NUM_AS_ROOT: Number of root nodes using a specific feature. The larger, the most important.\n",
        "  - > NUM_NODES: Number of nodes using a specific feature. The larger, the most important.\n",
        "  - > MEAN_MIN_DEPTH: Average minimum depth of the first occurence of a feature across all the tree paths. The smaller, the most important.\n",
        "  \n",
        "\n",
        "~ Quoted from [TensorFlow Decision Forests](https://www.tensorflow.org/decision_forests/api_docs/python/tfdf/inspector/AbstractInspector#variable_importances) documentation and [yggdrasil-decision-forests](https://github.com/google/yggdrasil-decision-forests/blob/main/documentation/user_manual.md#variable-importances) documentation.\n"
      ],
      "metadata": {
        "papermill": {
          "duration": 0.024509,
          "end_time": "2022-08-31T21:52:22.244408",
          "exception": false,
          "start_time": "2022-08-31T21:52:22.219899",
          "status": "completed"
        },
        "tags": [],
        "id": "fW9O03uxyQp_"
      }
    },
    {
      "cell_type": "code",
      "source": [
        "# Adapted from https://www.tensorflow.org/decision_forests/tutorials/advanced_colab\n",
        "# See list of inspector methods from:\n",
        "# [field for field in dir(inspector) if not field.startswith(\"_\")]\n",
        "print(f\"Available variable importances:\")\n",
        "for importance in inspector.variable_importances().keys():\n",
        "  print(\"\\t\", importance)"
      ],
      "metadata": {
        "papermill": {
          "duration": 0.036683,
          "end_time": "2022-08-31T21:52:22.305813",
          "exception": false,
          "start_time": "2022-08-31T21:52:22.26913",
          "status": "completed"
        },
        "tags": [],
        "execution": {
          "iopub.status.busy": "2022-08-31T23:59:31.091599Z",
          "iopub.execute_input": "2022-08-31T23:59:31.092261Z",
          "iopub.status.idle": "2022-08-31T23:59:31.10076Z",
          "shell.execute_reply.started": "2022-08-31T23:59:31.092227Z",
          "shell.execute_reply": "2022-08-31T23:59:31.09977Z"
        },
        "trusted": true,
        "id": "gi-ibLQfyQqA"
      },
      "execution_count": null,
      "outputs": []
    },
    {
      "cell_type": "markdown",
      "source": [
        "Variable importances describe how each feature impacts the model."
      ],
      "metadata": {
        "papermill": {
          "duration": 0.024729,
          "end_time": "2022-08-31T21:52:22.35582",
          "exception": false,
          "start_time": "2022-08-31T21:52:22.331091",
          "status": "completed"
        },
        "tags": [],
        "id": "3CsVzwgYyQqA"
      }
    },
    {
      "cell_type": "code",
      "source": [
        "inspector.variable_importances()[\"SUM_SCORE\"]"
      ],
      "metadata": {
        "papermill": {
          "duration": 0.036433,
          "end_time": "2022-08-31T21:52:22.417314",
          "exception": false,
          "start_time": "2022-08-31T21:52:22.380881",
          "status": "completed"
        },
        "tags": [],
        "execution": {
          "iopub.status.busy": "2022-08-31T23:59:31.102198Z",
          "iopub.execute_input": "2022-08-31T23:59:31.102609Z",
          "iopub.status.idle": "2022-08-31T23:59:31.115319Z",
          "shell.execute_reply.started": "2022-08-31T23:59:31.102576Z",
          "shell.execute_reply": "2022-08-31T23:59:31.113638Z"
        },
        "trusted": true,
        "id": "GZt33y4ryQqA"
      },
      "execution_count": null,
      "outputs": []
    },
    {
      "cell_type": "markdown",
      "source": [
        "Here we can see that our model thinks that the most important feature is the \"store\" column.\n",
        "\n",
        "Using the RandomForest model we were able to achieve RMSE ~20.8. This isn't necessarily a great result.  To get to the top of the leaderboard it will be important to do add in a few additional code cells where and spend some time doing some feature engineering and feature selection (as mentioned previously).  In the meantime, let's evaluate if simply swapping out the RandomForest for a GradientBoostedTrees model is enough to improve our result."
      ],
      "metadata": {
        "papermill": {
          "duration": 0.025116,
          "end_time": "2022-08-31T21:52:22.468504",
          "exception": false,
          "start_time": "2022-08-31T21:52:22.443388",
          "status": "completed"
        },
        "tags": [],
        "id": "O1srd2ysyQqA"
      }
    },
    {
      "cell_type": "markdown",
      "source": [
        "# GradientBoostedTrees\n",
        "\n",
        "Next we will take our training data and we will use it to train a GradientBoostedTrees model (to predict whether a given piece of machinery is in a state of \"0\" or \"1\")."
      ],
      "metadata": {
        "papermill": {
          "duration": 0.025387,
          "end_time": "2022-08-31T21:52:22.519821",
          "exception": false,
          "start_time": "2022-08-31T21:52:22.494434",
          "status": "completed"
        },
        "tags": [],
        "id": "NwvaBjrIyQqA"
      }
    },
    {
      "cell_type": "markdown",
      "source": [
        "Step 9: Train a [GradientBoostedTrees](https://statweb.stanford.edu/~jhf/ftp/trebst.pdf) model.  GradientBoostedTrees often perform better than the RandomForests we were using previously.\n",
        "\n",
        "\n",
        "\n",
        "> \"A GBT (Gradient Boosted Tree) is a set of shallow decision trees trained sequentially. Each tree is trained to predict and then \"correct\" for the errors of the previously trained trees (more precisely each tree predict the gradient of the loss relative to the model output)\"\n",
        "\n",
        "\n",
        "\n",
        " ~ Quoted from [TFDF GradientBoostedTrees documentation ](https://www.tensorflow.org/decision_forests/api_docs/python/tfdf/keras/GradientBoostedTreesModel)\n"
      ],
      "metadata": {
        "papermill": {
          "duration": 0.024707,
          "end_time": "2022-08-31T21:52:22.570668",
          "exception": false,
          "start_time": "2022-08-31T21:52:22.545961",
          "status": "completed"
        },
        "tags": [],
        "id": "4CldvvPKyQqA"
      }
    },
    {
      "cell_type": "code",
      "source": [
        "# As mentioned previously, TF-DF gives you lots of different \"default\" hyper-parameter settings to choose from.\n",
        "print(tfdf.keras.GradientBoostedTreesModel.predefined_hyperparameters())"
      ],
      "metadata": {
        "papermill": {
          "duration": 0.034925,
          "end_time": "2022-08-31T21:52:22.630418",
          "exception": false,
          "start_time": "2022-08-31T21:52:22.595493",
          "status": "completed"
        },
        "tags": [],
        "execution": {
          "iopub.status.busy": "2022-08-31T23:59:31.116732Z",
          "iopub.execute_input": "2022-08-31T23:59:31.11763Z",
          "iopub.status.idle": "2022-08-31T23:59:31.123601Z",
          "shell.execute_reply.started": "2022-08-31T23:59:31.117549Z",
          "shell.execute_reply": "2022-08-31T23:59:31.122534Z"
        },
        "trusted": true,
        "id": "fLbJzMPvyQqA"
      },
      "execution_count": null,
      "outputs": []
    },
    {
      "cell_type": "code",
      "source": [
        "# Train the model\n",
        "gb_model = tfdf.keras.GradientBoostedTreesModel(hyperparameter_template=\"better_default\",num_trees=200,early_stopping='NONE', task=tfdf.keras.Task.REGRESSION)\n",
        "gb_model.compile(metrics=[\"mae\"]) # change to SMAPE eventually\n",
        "gb_model.fit(x=train_tfds)"
      ],
      "metadata": {
        "_kg_hide-output": true,
        "papermill": {
          "duration": 242.943599,
          "end_time": "2022-08-31T21:56:25.599234",
          "exception": false,
          "start_time": "2022-08-31T21:52:22.655635",
          "status": "completed"
        },
        "tags": [],
        "execution": {
          "iopub.status.busy": "2022-08-31T23:59:31.125158Z",
          "iopub.execute_input": "2022-08-31T23:59:31.126265Z",
          "iopub.status.idle": "2022-09-01T00:03:01.852014Z",
          "shell.execute_reply.started": "2022-08-31T23:59:31.126231Z",
          "shell.execute_reply": "2022-09-01T00:03:01.851101Z"
        },
        "trusted": true,
        "id": "HyTcrymdyQqA"
      },
      "execution_count": null,
      "outputs": []
    },
    {
      "cell_type": "code",
      "source": [
        "# Visualize the model\n",
        "# Currently this step works in the Kaggle Notebook Editor but unfortunately displays an empty/blank visualization in the Notebook Viewer\n",
        "tfdf.model_plotter.plot_model_in_colab(gb_model, tree_idx=0, max_depth=3)"
      ],
      "metadata": {
        "_kg_hide-input": true,
        "_kg_hide-output": true,
        "papermill": {
          "duration": 0.058188,
          "end_time": "2022-08-31T21:56:25.685319",
          "exception": false,
          "start_time": "2022-08-31T21:56:25.627131",
          "status": "completed"
        },
        "tags": [],
        "execution": {
          "iopub.status.busy": "2022-09-01T00:03:01.853569Z",
          "iopub.execute_input": "2022-09-01T00:03:01.853923Z",
          "iopub.status.idle": "2022-09-01T00:03:01.874492Z",
          "shell.execute_reply.started": "2022-09-01T00:03:01.853888Z",
          "shell.execute_reply": "2022-09-01T00:03:01.87347Z"
        },
        "trusted": true,
        "id": "X0noOEbRyQqB"
      },
      "execution_count": null,
      "outputs": []
    },
    {
      "cell_type": "markdown",
      "source": [
        "Step 10: Evaluate your GradientBoostedTrees  Model"
      ],
      "metadata": {
        "papermill": {
          "duration": 0.028069,
          "end_time": "2022-08-31T21:56:25.741771",
          "exception": false,
          "start_time": "2022-08-31T21:56:25.713702",
          "status": "completed"
        },
        "tags": [],
        "id": "WY8hIAkSyQqB"
      }
    },
    {
      "cell_type": "code",
      "source": [
        "plot_tfdf_model_training_curves(gb_model)"
      ],
      "metadata": {
        "papermill": {
          "duration": 0.34332,
          "end_time": "2022-08-31T21:56:26.113572",
          "exception": false,
          "start_time": "2022-08-31T21:56:25.770252",
          "status": "completed"
        },
        "tags": [],
        "execution": {
          "iopub.status.busy": "2022-09-01T00:03:01.87602Z",
          "iopub.execute_input": "2022-09-01T00:03:01.876452Z",
          "iopub.status.idle": "2022-09-01T00:03:02.154429Z",
          "shell.execute_reply.started": "2022-09-01T00:03:01.876416Z",
          "shell.execute_reply": "2022-09-01T00:03:02.153577Z"
        },
        "trusted": true,
        "id": "oLRmzyPjyQqB"
      },
      "execution_count": null,
      "outputs": []
    },
    {
      "cell_type": "code",
      "source": [
        "inspector = gb_model.make_inspector()\n",
        "inspector.evaluation()"
      ],
      "metadata": {
        "papermill": {
          "duration": 0.042115,
          "end_time": "2022-08-31T21:56:26.185114",
          "exception": false,
          "start_time": "2022-08-31T21:56:26.142999",
          "status": "completed"
        },
        "tags": [],
        "execution": {
          "iopub.status.busy": "2022-09-01T00:03:02.155864Z",
          "iopub.execute_input": "2022-09-01T00:03:02.156192Z",
          "iopub.status.idle": "2022-09-01T00:03:02.167464Z",
          "shell.execute_reply.started": "2022-09-01T00:03:02.156158Z",
          "shell.execute_reply": "2022-09-01T00:03:02.16654Z"
        },
        "trusted": true,
        "id": "kqo65Xm1yQqB"
      },
      "execution_count": null,
      "outputs": []
    },
    {
      "cell_type": "code",
      "source": [
        "gb_model.evaluate(train_tfds)"
      ],
      "metadata": {
        "papermill": {
          "duration": 3.392188,
          "end_time": "2022-08-31T21:56:29.606283",
          "exception": false,
          "start_time": "2022-08-31T21:56:26.214095",
          "status": "completed"
        },
        "tags": [],
        "execution": {
          "iopub.status.busy": "2022-09-01T00:03:02.169119Z",
          "iopub.execute_input": "2022-09-01T00:03:02.169471Z",
          "iopub.status.idle": "2022-09-01T00:03:05.942327Z",
          "shell.execute_reply.started": "2022-09-01T00:03:02.169437Z",
          "shell.execute_reply": "2022-09-01T00:03:05.941404Z"
        },
        "trusted": true,
        "id": "Y03ocxDIyQqB"
      },
      "execution_count": null,
      "outputs": []
    },
    {
      "cell_type": "code",
      "source": [
        "print(\"Model type:\", inspector.model_type())\n",
        "print(\"Objective:\", inspector.objective())\n",
        "print(\"Evaluation:\", inspector.evaluation())"
      ],
      "metadata": {
        "papermill": {
          "duration": 0.043908,
          "end_time": "2022-08-31T21:56:29.683133",
          "exception": false,
          "start_time": "2022-08-31T21:56:29.639225",
          "status": "completed"
        },
        "tags": [],
        "execution": {
          "iopub.status.busy": "2022-09-01T00:03:05.945299Z",
          "iopub.execute_input": "2022-09-01T00:03:05.945616Z",
          "iopub.status.idle": "2022-09-01T00:03:05.953644Z",
          "shell.execute_reply.started": "2022-09-01T00:03:05.945586Z",
          "shell.execute_reply": "2022-09-01T00:03:05.952612Z"
        },
        "trusted": true,
        "id": "KBTuQSJeyQqB"
      },
      "execution_count": null,
      "outputs": []
    },
    {
      "cell_type": "code",
      "source": [
        "gb_model.evaluate(train_tfds)"
      ],
      "metadata": {
        "papermill": {
          "duration": 5.289578,
          "end_time": "2022-08-31T21:56:35.00541",
          "exception": false,
          "start_time": "2022-08-31T21:56:29.715832",
          "status": "completed"
        },
        "tags": [],
        "execution": {
          "iopub.status.busy": "2022-09-01T00:03:05.955101Z",
          "iopub.execute_input": "2022-09-01T00:03:05.956356Z",
          "iopub.status.idle": "2022-09-01T00:03:09.066998Z",
          "shell.execute_reply.started": "2022-09-01T00:03:05.956321Z",
          "shell.execute_reply": "2022-09-01T00:03:09.066191Z"
        },
        "trusted": true,
        "id": "xPM7OS3nyQqB"
      },
      "execution_count": null,
      "outputs": []
    },
    {
      "cell_type": "markdown",
      "source": [
        "RMSE ~14.9 and MAE ~8.9 is not a bad baseline result given how few lines of code were required, but we'll still want to eventually do a bit more with the feature engineering and feature selection steps in order to improve this score a bit."
      ],
      "metadata": {
        "papermill": {
          "duration": 0.034866,
          "end_time": "2022-08-31T21:56:35.075856",
          "exception": false,
          "start_time": "2022-08-31T21:56:35.04099",
          "status": "completed"
        },
        "tags": [],
        "id": "nzTXY-5jyQqB"
      }
    },
    {
      "cell_type": "markdown",
      "source": [
        "Step 10: Investigate variable importances for the GradientBoostedTrees model"
      ],
      "metadata": {
        "papermill": {
          "duration": 0.035021,
          "end_time": "2022-08-31T21:56:35.146121",
          "exception": false,
          "start_time": "2022-08-31T21:56:35.1111",
          "status": "completed"
        },
        "tags": [],
        "id": "AJkkPzt5yQqC"
      }
    },
    {
      "cell_type": "markdown",
      "source": [
        "As mentioned previously, variable importances describe how each feature impacts the model. Variable importances can tell you how much a given variable contributes to the model's predictions. \n"
      ],
      "metadata": {
        "papermill": {
          "duration": 0.034448,
          "end_time": "2022-08-31T21:56:35.215542",
          "exception": false,
          "start_time": "2022-08-31T21:56:35.181094",
          "status": "completed"
        },
        "tags": [],
        "id": "DjmctsZQyQqC"
      }
    },
    {
      "cell_type": "code",
      "source": [
        "# Adapted from https://www.tensorflow.org/decision_forests/tutorials/advanced_colab\n",
        "# See list of inspector methods from:\n",
        "# [field for field in dir(inspector) if not field.startswith(\"_\")]\n",
        "print(f\"Available variable importances:\")\n",
        "for importance in inspector.variable_importances().keys():\n",
        "  print(\"\\t\", importance)"
      ],
      "metadata": {
        "papermill": {
          "duration": 0.048193,
          "end_time": "2022-08-31T21:56:35.298257",
          "exception": false,
          "start_time": "2022-08-31T21:56:35.250064",
          "status": "completed"
        },
        "tags": [],
        "execution": {
          "iopub.status.busy": "2022-09-01T00:03:09.072297Z",
          "iopub.execute_input": "2022-09-01T00:03:09.074025Z",
          "iopub.status.idle": "2022-09-01T00:03:09.079761Z",
          "shell.execute_reply.started": "2022-09-01T00:03:09.073985Z",
          "shell.execute_reply": "2022-09-01T00:03:09.078605Z"
        },
        "trusted": true,
        "id": "R-zydDOyyQqC"
      },
      "execution_count": null,
      "outputs": []
    },
    {
      "cell_type": "markdown",
      "source": [
        "Variable importances describe how each feature impacts the model. Once again we can see that our most important features were the features that we created during our feature engineering step. "
      ],
      "metadata": {
        "papermill": {
          "duration": 0.035652,
          "end_time": "2022-08-31T21:56:35.369318",
          "exception": false,
          "start_time": "2022-08-31T21:56:35.333666",
          "status": "completed"
        },
        "tags": [],
        "id": "NHxoK-UsyQqC"
      }
    },
    {
      "cell_type": "code",
      "source": [
        "inspector.variable_importances()[\"SUM_SCORE\"]"
      ],
      "metadata": {
        "papermill": {
          "duration": 0.048873,
          "end_time": "2022-08-31T21:56:35.454324",
          "exception": false,
          "start_time": "2022-08-31T21:56:35.405451",
          "status": "completed"
        },
        "tags": [],
        "execution": {
          "iopub.status.busy": "2022-09-01T00:03:09.081216Z",
          "iopub.execute_input": "2022-09-01T00:03:09.082201Z",
          "iopub.status.idle": "2022-09-01T00:03:09.094455Z",
          "shell.execute_reply.started": "2022-09-01T00:03:09.082164Z",
          "shell.execute_reply": "2022-09-01T00:03:09.093432Z"
        },
        "trusted": true,
        "id": "mfXfVLKAyQqC"
      },
      "execution_count": null,
      "outputs": []
    },
    {
      "cell_type": "markdown",
      "source": [
        "Our GradientBoostedTrees algorithm found that the \"store\" feature was the most informative, just like our RandomForest model did.  \n",
        "\n",
        "Using the GradientBoostedTrees model we were able to achieve RMSE ~14.9 and MAE ~8.9. This isn't necessarily a great result.  To get to the top of the leaderboard it will be important to do add in a few additional code cells and spend some time doing some feature engineering and feature selection (as mentioned previously).  "
      ],
      "metadata": {
        "papermill": {
          "duration": 0.035242,
          "end_time": "2022-08-31T21:56:35.525509",
          "exception": false,
          "start_time": "2022-08-31T21:56:35.490267",
          "status": "completed"
        },
        "tags": [],
        "id": "sm06oNo9yQqC"
      }
    },
    {
      "cell_type": "code",
      "source": [
        "# Visualize the model\n",
        "# Currently this step works in the Kaggle Notebook Editor but unfortunately displays an empty/blank visualization in the Notebook Viewer\n",
        "tfdf.model_plotter.plot_model_in_colab(gb_model, tree_idx=0, max_depth=3)"
      ],
      "metadata": {
        "_kg_hide-input": true,
        "papermill": {
          "duration": 0.053304,
          "end_time": "2022-08-31T21:56:35.614191",
          "exception": false,
          "start_time": "2022-08-31T21:56:35.560887",
          "status": "completed"
        },
        "tags": [],
        "execution": {
          "iopub.status.busy": "2022-09-01T00:03:09.098139Z",
          "iopub.execute_input": "2022-09-01T00:03:09.098398Z",
          "iopub.status.idle": "2022-09-01T00:03:09.114593Z",
          "shell.execute_reply.started": "2022-09-01T00:03:09.098374Z",
          "shell.execute_reply": "2022-09-01T00:03:09.113588Z"
        },
        "trusted": true,
        "id": "OAPrOfdJyQqC"
      },
      "execution_count": null,
      "outputs": []
    },
    {
      "cell_type": "markdown",
      "source": [
        "Step 11: Submit your results"
      ],
      "metadata": {
        "papermill": {
          "duration": 0.036246,
          "end_time": "2022-08-31T21:56:35.687492",
          "exception": false,
          "start_time": "2022-08-31T21:56:35.651246",
          "status": "completed"
        },
        "tags": [],
        "id": "e6uJr89XyQqC"
      }
    },
    {
      "cell_type": "code",
      "source": [
        "# One submission file using RandomForest\n",
        "sample_submission_df = pd.read_csv('/kaggle/input/tabular-playground-series-sep-2022/sample_submission.csv')\n",
        "sample_submission_df['num_sold'] = rf_model.predict(test_tfds)\n",
        "sample_submission_df.to_csv('/kaggle/working/rf_submission.csv', index=False)\n",
        "sample_submission_df.head()\n",
        "\n",
        "# And another using GradientBoostedTrees \n",
        "sample_submission_df = pd.read_csv('/kaggle/input/tabular-playground-series-sep-2022/sample_submission.csv')\n",
        "sample_submission_df['num_sold'] = gb_model.predict(test_tfds)\n",
        "sample_submission_df.to_csv('/kaggle/working/gb_submission.csv', index=False)\n",
        "sample_submission_df.head()\n",
        "\n",
        "sample_submission_df.to_csv('submission.csv', index=None)"
      ],
      "metadata": {
        "_kg_hide-input": false,
        "_kg_hide-output": true,
        "papermill": {
          "duration": 1.265438,
          "end_time": "2022-08-31T21:56:36.989452",
          "exception": false,
          "start_time": "2022-08-31T21:56:35.724014",
          "status": "completed"
        },
        "tags": [],
        "execution": {
          "iopub.status.busy": "2022-09-01T00:27:18.002042Z",
          "iopub.execute_input": "2022-09-01T00:27:18.002436Z",
          "iopub.status.idle": "2022-09-01T00:27:19.171535Z",
          "shell.execute_reply.started": "2022-09-01T00:27:18.002401Z",
          "shell.execute_reply": "2022-09-01T00:27:19.170517Z"
        },
        "trusted": true,
        "id": "a4gKETvzyQqC"
      },
      "execution_count": null,
      "outputs": []
    },
    {
      "cell_type": "markdown",
      "source": [
        "TF-DF makes it very easy to find lots of useful information about your model.  For example, the following code cell provides a tremendous amount of information with just a single line of code.  You can preview the output of this code cell by clicking on the \"show output\" button below."
      ],
      "metadata": {
        "papermill": {
          "duration": 0.046333,
          "end_time": "2022-08-31T21:56:37.072142",
          "exception": false,
          "start_time": "2022-08-31T21:56:37.025809",
          "status": "completed"
        },
        "tags": [],
        "id": "8so6uUadyQqD"
      }
    },
    {
      "cell_type": "code",
      "source": [
        "gb_model.summary()"
      ],
      "metadata": {
        "_kg_hide-output": true,
        "papermill": {
          "duration": 0.047283,
          "end_time": "2022-08-31T21:56:37.156803",
          "exception": false,
          "start_time": "2022-08-31T21:56:37.10952",
          "status": "completed"
        },
        "tags": [],
        "execution": {
          "iopub.status.busy": "2022-09-01T00:03:10.293939Z",
          "iopub.execute_input": "2022-09-01T00:03:10.295608Z",
          "iopub.status.idle": "2022-09-01T00:03:10.302145Z",
          "shell.execute_reply.started": "2022-09-01T00:03:10.295568Z",
          "shell.execute_reply": "2022-09-01T00:03:10.301034Z"
        },
        "trusted": true,
        "id": "xeC4NdlfyQqD"
      },
      "execution_count": null,
      "outputs": []
    },
    {
      "cell_type": "markdown",
      "source": [
        "# Conclusion"
      ],
      "metadata": {
        "papermill": {
          "duration": 0.037035,
          "end_time": "2022-08-31T21:56:37.231123",
          "exception": false,
          "start_time": "2022-08-31T21:56:37.194088",
          "status": "completed"
        },
        "tags": [],
        "id": "82uB1pQHyQqD"
      }
    },
    {
      "cell_type": "markdown",
      "source": [
        "[TensorFlow Decision Forests](https://www.tensorflow.org/decision_forests) (TF-DF) made it  quick and easy to train our RandomForest and GradientBoostedTrees models.  These types of decision forest models require minimal pre-processing of the data and are great when working with tabular datasets and/or small datasets (especially if you just want a quick baseline result to compare against).  Some of my favorite parts about  working with TF-DF were: (1) I was able to train a GradientBoostedTrees model with only a few lines of code; (2) there were lots of different default hyper-parameter options that I could choose from; (3) it was easy to visualize the structure/architecture of my models; and (4) it was easy to explore what features were most important to my model (to interpret and explain its decisions).\n",
        "\n",
        "\n",
        "We worked with the [Tabular Playground Series September 2022](https://www.kaggle.com/competitions/tabular-playground-series-sep-2022/data) Kaggle Dataset.  It was a tabular dataset with ~70,000 rows and 6 columns (4.49MB .CSV training dataset + 1.06MB .CSV test set) that was suitable for training regression algorithms (in this case to determine the number of units sold (\"num_sold\")).\n",
        "\n",
        "Submissions in this competition will be [evaluated](https://admin.kaggle.com/competitions/tabular-playground-series-sep-2022/overview/evaluation) according to the [SMAPE metric](https://en.wikipedia.org/wiki/Symmetric_mean_absolute_percentage_error).  \n",
        "\n",
        "\n",
        "\n",
        "We were able to quickly solve this task with an accuracy of RMSE ~14.9 and MAE ~8.9. This isn't necessarily a great result but hopefully can serve as a helpful and informative baseline for the task at hand.  To get to the top of the leaderboard it will be important to do add in a few additional code cells where and spend some time doing some feature engineering and feature selection (as mentioned previously). \n",
        "\n",
        "To learn more about TF-DF visit https://www.tensorflow.org/decision_forests.\n",
        "\n",
        "Next steps?\n",
        " - Click on the \"copy & edit\" button in the top right corner of this notebook\n",
        " - Experiment and try to increase the score.  My recommendation would be to focus on the [feature engineering and feature selection](https://www.kaggle.com/learn/feature-engineering) steps, as these steps were omitted from this tutorial (for the sake of brevity)\n",
        " - Make a submission to https://www.kaggle.com/competitions/tabular-playground-series-sep-2022"
      ],
      "metadata": {
        "papermill": {
          "duration": 0.037281,
          "end_time": "2022-08-31T21:56:37.306408",
          "exception": false,
          "start_time": "2022-08-31T21:56:37.269127",
          "status": "completed"
        },
        "tags": [],
        "id": "Zpf2fccjyQqD"
      }
    },
    {
      "cell_type": "markdown",
      "source": [
        "Works Cited:\n",
        " - [Build, train and evaluate models with TensorFlow Decision Forests](https://www.tensorflow.org/decision_forests/tutorials/beginner_colab) from @[tensorflow](https://www.tensorflow.org/decision_forests/tutorials/)\n",
        "  - Code snippets for model training visualization \n",
        "  - See comments in plot_tfdf_model_training_curves() for more detail\n",
        "\n",
        "Other Useful References:\n",
        " - https://www.tensorflow.org/decision_forests/tutorials/beginner_colab\n",
        " - https://www.tensorflow.org/decision_forests/tutorials/intermediate_colab\n",
        " - https://www.tensorflow.org/decision_forests/tutorials/advanced_colab"
      ],
      "metadata": {
        "papermill": {
          "duration": 0.036978,
          "end_time": "2022-08-31T21:56:37.381027",
          "exception": false,
          "start_time": "2022-08-31T21:56:37.344049",
          "status": "completed"
        },
        "tags": [],
        "id": "2fXhFROdyQqD"
      }
    },
    {
      "cell_type": "code",
      "source": [],
      "metadata": {
        "papermill": {
          "duration": 0.037378,
          "end_time": "2022-08-31T21:56:37.455885",
          "exception": false,
          "start_time": "2022-08-31T21:56:37.418507",
          "status": "completed"
        },
        "tags": [],
        "id": "3C1BtT-cyQqD"
      },
      "execution_count": null,
      "outputs": []
    },
    {
      "cell_type": "code",
      "source": [],
      "metadata": {
        "papermill": {
          "duration": 0.036615,
          "end_time": "2022-08-31T21:56:37.529884",
          "exception": false,
          "start_time": "2022-08-31T21:56:37.493269",
          "status": "completed"
        },
        "tags": [],
        "id": "mAY50sJ1yQqD"
      },
      "execution_count": null,
      "outputs": []
    }
  ]
}